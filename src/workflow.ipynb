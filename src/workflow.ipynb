{
 "cells": [
  {
   "cell_type": "code",
   "execution_count": 8,
   "metadata": {},
   "outputs": [],
   "source": [
    "import os\n",
    "import re\n",
    "\n",
    "import pandas as pd\n",
    "import numpy as np\n",
    "\n",
    "import plotly.graph_objects as go\n",
    "import plotly.express as px\n",
    "from tqdm.auto import tqdm\n",
    "\n",
    "# My modules\n",
    "import parsing\n",
    "import posing\n",
    "import plotting\n",
    "import feature_extraction"
   ]
  },
  {
   "cell_type": "code",
   "execution_count": 19,
   "metadata": {},
   "outputs": [
    {
     "data": {
      "text/plain": [
       "28"
      ]
     },
     "execution_count": 19,
     "metadata": {},
     "output_type": "execute_result"
    }
   ],
   "source": [
    "subject_path = '../data/subjects_small'\n",
    "\n",
    "pkls = []\n",
    "\n",
    "for path, dirs, files in os.walk(subject_path):\n",
    "    pkls += [f for f in files if f.endswith('.pkl')]\n",
    "\n",
    "len(pkls)"
   ]
  },
  {
   "cell_type": "code",
   "execution_count": 21,
   "metadata": {},
   "outputs": [],
   "source": [
    "def get_torso_verticality(animation_df):\n",
    "    torso_vert = animation_df.loc[:, 'lowerneck', :]['position'] - animation_df.loc[:, 'lowerback', :]['position']\n",
    "    torso_vert /= torso_vert.apply(np.linalg.norm)\n",
    "    torso_vert = torso_vert.apply(lambda x: np.dot(np.array([0, 1, 0]), x))\n",
    "    return torso_vert"
   ]
  },
  {
   "cell_type": "code",
   "execution_count": 30,
   "metadata": {},
   "outputs": [],
   "source": [
    "def extract_features(animation_df):\n",
    "    return pd.DataFrame({\n",
    "        'Torso Verticality Mean': [get_torso_verticality(animation_df).mean()],\n",
    "        'Torso Verticality Std.': [get_torso_verticality(animation_df).std()]\n",
    "    })"
   ]
  },
  {
   "cell_type": "code",
   "execution_count": 31,
   "metadata": {},
   "outputs": [
    {
     "data": {
      "text/html": [
       "<div>\n",
       "<style scoped>\n",
       "    .dataframe tbody tr th:only-of-type {\n",
       "        vertical-align: middle;\n",
       "    }\n",
       "\n",
       "    .dataframe tbody tr th {\n",
       "        vertical-align: top;\n",
       "    }\n",
       "\n",
       "    .dataframe thead th {\n",
       "        text-align: right;\n",
       "    }\n",
       "</style>\n",
       "<table border=\"1\" class=\"dataframe\">\n",
       "  <thead>\n",
       "    <tr style=\"text-align: right;\">\n",
       "      <th></th>\n",
       "      <th>Torso Verticality Mean</th>\n",
       "      <th>Torso Verticality Std.</th>\n",
       "    </tr>\n",
       "  </thead>\n",
       "  <tbody>\n",
       "    <tr>\n",
       "      <th>0</th>\n",
       "      <td>0.943458</td>\n",
       "      <td>0.08307</td>\n",
       "    </tr>\n",
       "  </tbody>\n",
       "</table>\n",
       "</div>"
      ],
      "text/plain": [
       "   Torso Verticality Mean  Torso Verticality Std.\n",
       "0                0.943458                 0.08307"
      ]
     },
     "execution_count": 31,
     "metadata": {},
     "output_type": "execute_result"
    }
   ],
   "source": [
    "file_path = os.path.join(subject_path, '01/01_01.pkl')\n",
    "df = pd.read_pickle(file_path)\n",
    "extract_features(df)"
   ]
  },
  {
   "cell_type": "code",
   "execution_count": null,
   "metadata": {},
   "outputs": [],
   "source": []
  }
 ],
 "metadata": {
  "kernelspec": {
   "display_name": "venv",
   "language": "python",
   "name": "python3"
  },
  "language_info": {
   "codemirror_mode": {
    "name": "ipython",
    "version": 3
   },
   "file_extension": ".py",
   "mimetype": "text/x-python",
   "name": "python",
   "nbconvert_exporter": "python",
   "pygments_lexer": "ipython3",
   "version": "3.10.6"
  },
  "orig_nbformat": 4
 },
 "nbformat": 4,
 "nbformat_minor": 2
}
