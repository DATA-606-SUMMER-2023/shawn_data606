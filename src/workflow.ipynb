{
 "cells": [
  {
   "cell_type": "markdown",
   "metadata": {},
   "source": [
    "# Workflow"
   ]
  },
  {
   "cell_type": "markdown",
   "metadata": {},
   "source": [
    "## Libs"
   ]
  },
  {
   "cell_type": "code",
   "execution_count": 1,
   "metadata": {},
   "outputs": [],
   "source": [
    "import os\n",
    "import re\n",
    "\n",
    "import pandas as pd\n",
    "import numpy as np\n",
    "\n",
    "import plotly.graph_objects as go\n",
    "import plotly.express as px\n",
    "from tqdm.auto import tqdm\n",
    "\n",
    "# My modules\n",
    "import parsing\n",
    "import posing\n",
    "import plotting\n",
    "import feature_extraction"
   ]
  },
  {
   "cell_type": "markdown",
   "metadata": {},
   "source": [
    "## Feature Extraction"
   ]
  },
  {
   "cell_type": "code",
   "execution_count": 2,
   "metadata": {},
   "outputs": [
    {
     "name": "stdout",
     "output_type": "stream",
     "text": [
      "# pickle files: 28\n",
      "First ten pickle files:\n",
      "../data/subjects_small\\01\\01_01.pkl\n",
      "../data/subjects_small\\01\\01_02.pkl\n",
      "../data/subjects_small\\01\\01_03.pkl\n",
      "../data/subjects_small\\01\\01_04.pkl\n",
      "../data/subjects_small\\01\\01_05.pkl\n",
      "../data/subjects_small\\01\\01_06.pkl\n",
      "../data/subjects_small\\01\\01_07.pkl\n",
      "../data/subjects_small\\01\\01_08.pkl\n",
      "../data/subjects_small\\01\\01_09.pkl\n",
      "../data/subjects_small\\01\\01_10.pkl\n"
     ]
    }
   ],
   "source": [
    "subject_path = '../data/subjects_small'\n",
    "\n",
    "pkls = []\n",
    "\n",
    "for path, dirs, files in os.walk(subject_path):\n",
    "    pkls += [os.path.join(path, f) for f in files if f.endswith('.pkl')]\n",
    "\n",
    "print(f'# pickle files: {len(pkls)}')\n",
    "pkl_head = '\\n'.join(pkls[:10])\n",
    "print(f\"First ten pickle files:\\n{pkl_head}\")"
   ]
  },
  {
   "cell_type": "code",
   "execution_count": 3,
   "metadata": {},
   "outputs": [
    {
     "data": {
      "application/vnd.jupyter.widget-view+json": {
       "model_id": "b38ff99d27534cb298ddcac0eeee6022",
       "version_major": 2,
       "version_minor": 0
      },
      "text/plain": [
       "  0%|          | 0/28 [00:00<?, ?it/s]"
      ]
     },
     "metadata": {},
     "output_type": "display_data"
    },
    {
     "data": {
      "text/html": [
       "<div>\n",
       "<style scoped>\n",
       "    .dataframe tbody tr th:only-of-type {\n",
       "        vertical-align: middle;\n",
       "    }\n",
       "\n",
       "    .dataframe tbody tr th {\n",
       "        vertical-align: top;\n",
       "    }\n",
       "\n",
       "    .dataframe thead th {\n",
       "        text-align: right;\n",
       "    }\n",
       "</style>\n",
       "<table border=\"1\" class=\"dataframe\">\n",
       "  <thead>\n",
       "    <tr style=\"text-align: right;\">\n",
       "      <th></th>\n",
       "      <th>Torso Verticality Mean</th>\n",
       "      <th>Torso Verticality Std.</th>\n",
       "      <th>Instability</th>\n",
       "      <th>Hand Energy</th>\n",
       "      <th>Foot Energy</th>\n",
       "      <th>Head Energy</th>\n",
       "    </tr>\n",
       "  </thead>\n",
       "  <tbody>\n",
       "    <tr>\n",
       "      <th>01_01</th>\n",
       "      <td>0.943458</td>\n",
       "      <td>0.083070</td>\n",
       "      <td>2.229913</td>\n",
       "      <td>0.216813</td>\n",
       "      <td>0.181132</td>\n",
       "      <td>0.052448</td>\n",
       "    </tr>\n",
       "    <tr>\n",
       "      <th>01_02</th>\n",
       "      <td>0.742631</td>\n",
       "      <td>0.220370</td>\n",
       "      <td>8.050832</td>\n",
       "      <td>0.182885</td>\n",
       "      <td>0.219635</td>\n",
       "      <td>0.044672</td>\n",
       "    </tr>\n",
       "    <tr>\n",
       "      <th>01_03</th>\n",
       "      <td>0.796605</td>\n",
       "      <td>0.211797</td>\n",
       "      <td>10.380910</td>\n",
       "      <td>0.240885</td>\n",
       "      <td>0.220518</td>\n",
       "      <td>0.061694</td>\n",
       "    </tr>\n",
       "    <tr>\n",
       "      <th>01_04</th>\n",
       "      <td>0.929846</td>\n",
       "      <td>0.073017</td>\n",
       "      <td>4.009411</td>\n",
       "      <td>0.147043</td>\n",
       "      <td>0.181545</td>\n",
       "      <td>0.033167</td>\n",
       "    </tr>\n",
       "    <tr>\n",
       "      <th>01_05</th>\n",
       "      <td>0.793071</td>\n",
       "      <td>0.227410</td>\n",
       "      <td>4.248218</td>\n",
       "      <td>0.213413</td>\n",
       "      <td>0.217981</td>\n",
       "      <td>0.049893</td>\n",
       "    </tr>\n",
       "    <tr>\n",
       "      <th>01_06</th>\n",
       "      <td>0.901182</td>\n",
       "      <td>0.132773</td>\n",
       "      <td>3.994250</td>\n",
       "      <td>0.155356</td>\n",
       "      <td>0.211207</td>\n",
       "      <td>0.033975</td>\n",
       "    </tr>\n",
       "    <tr>\n",
       "      <th>01_07</th>\n",
       "      <td>0.885631</td>\n",
       "      <td>0.153798</td>\n",
       "      <td>6.169081</td>\n",
       "      <td>0.203210</td>\n",
       "      <td>0.236872</td>\n",
       "      <td>0.048106</td>\n",
       "    </tr>\n",
       "    <tr>\n",
       "      <th>01_08</th>\n",
       "      <td>0.882973</td>\n",
       "      <td>0.165648</td>\n",
       "      <td>8.407590</td>\n",
       "      <td>0.233869</td>\n",
       "      <td>0.221303</td>\n",
       "      <td>0.058143</td>\n",
       "    </tr>\n",
       "    <tr>\n",
       "      <th>01_09</th>\n",
       "      <td>0.864001</td>\n",
       "      <td>0.169901</td>\n",
       "      <td>8.477148</td>\n",
       "      <td>0.224604</td>\n",
       "      <td>0.251490</td>\n",
       "      <td>0.056686</td>\n",
       "    </tr>\n",
       "    <tr>\n",
       "      <th>01_10</th>\n",
       "      <td>0.888731</td>\n",
       "      <td>0.107535</td>\n",
       "      <td>5.603204</td>\n",
       "      <td>0.254969</td>\n",
       "      <td>0.244055</td>\n",
       "      <td>0.060752</td>\n",
       "    </tr>\n",
       "    <tr>\n",
       "      <th>01_11</th>\n",
       "      <td>0.884853</td>\n",
       "      <td>0.158283</td>\n",
       "      <td>4.299263</td>\n",
       "      <td>0.194334</td>\n",
       "      <td>0.211778</td>\n",
       "      <td>0.039711</td>\n",
       "    </tr>\n",
       "    <tr>\n",
       "      <th>01_12</th>\n",
       "      <td>0.942888</td>\n",
       "      <td>0.065095</td>\n",
       "      <td>4.321921</td>\n",
       "      <td>0.214126</td>\n",
       "      <td>0.250426</td>\n",
       "      <td>0.046889</td>\n",
       "    </tr>\n",
       "    <tr>\n",
       "      <th>01_13</th>\n",
       "      <td>0.917886</td>\n",
       "      <td>0.102036</td>\n",
       "      <td>3.610051</td>\n",
       "      <td>0.333240</td>\n",
       "      <td>0.339086</td>\n",
       "      <td>0.069222</td>\n",
       "    </tr>\n",
       "    <tr>\n",
       "      <th>01_14</th>\n",
       "      <td>0.947504</td>\n",
       "      <td>0.084601</td>\n",
       "      <td>4.082045</td>\n",
       "      <td>0.295882</td>\n",
       "      <td>0.405528</td>\n",
       "      <td>0.059796</td>\n",
       "    </tr>\n",
       "    <tr>\n",
       "      <th>02_01</th>\n",
       "      <td>0.999173</td>\n",
       "      <td>0.000856</td>\n",
       "      <td>2.462321</td>\n",
       "      <td>0.200875</td>\n",
       "      <td>0.391477</td>\n",
       "      <td>0.018117</td>\n",
       "    </tr>\n",
       "    <tr>\n",
       "      <th>02_02</th>\n",
       "      <td>0.995879</td>\n",
       "      <td>0.003462</td>\n",
       "      <td>2.926030</td>\n",
       "      <td>0.282777</td>\n",
       "      <td>0.508550</td>\n",
       "      <td>0.026022</td>\n",
       "    </tr>\n",
       "    <tr>\n",
       "      <th>02_03</th>\n",
       "      <td>0.986765</td>\n",
       "      <td>0.010674</td>\n",
       "      <td>3.537062</td>\n",
       "      <td>0.365963</td>\n",
       "      <td>0.604131</td>\n",
       "      <td>0.045678</td>\n",
       "    </tr>\n",
       "    <tr>\n",
       "      <th>02_04</th>\n",
       "      <td>0.892593</td>\n",
       "      <td>0.160667</td>\n",
       "      <td>1.685594</td>\n",
       "      <td>0.256824</td>\n",
       "      <td>0.147239</td>\n",
       "      <td>0.081071</td>\n",
       "    </tr>\n",
       "    <tr>\n",
       "      <th>02_05</th>\n",
       "      <td>0.899503</td>\n",
       "      <td>0.117998</td>\n",
       "      <td>1.779973</td>\n",
       "      <td>0.252152</td>\n",
       "      <td>0.049706</td>\n",
       "      <td>0.073934</td>\n",
       "    </tr>\n",
       "    <tr>\n",
       "      <th>02_06</th>\n",
       "      <td>0.728428</td>\n",
       "      <td>0.319849</td>\n",
       "      <td>2.222382</td>\n",
       "      <td>0.177819</td>\n",
       "      <td>0.111633</td>\n",
       "      <td>0.080023</td>\n",
       "    </tr>\n",
       "    <tr>\n",
       "      <th>02_07</th>\n",
       "      <td>0.894711</td>\n",
       "      <td>0.135005</td>\n",
       "      <td>1.519361</td>\n",
       "      <td>0.307828</td>\n",
       "      <td>0.048652</td>\n",
       "      <td>0.069386</td>\n",
       "    </tr>\n",
       "    <tr>\n",
       "      <th>02_08</th>\n",
       "      <td>0.961514</td>\n",
       "      <td>0.075036</td>\n",
       "      <td>2.051152</td>\n",
       "      <td>0.284829</td>\n",
       "      <td>0.079949</td>\n",
       "      <td>0.031140</td>\n",
       "    </tr>\n",
       "    <tr>\n",
       "      <th>02_09</th>\n",
       "      <td>0.926224</td>\n",
       "      <td>0.109907</td>\n",
       "      <td>2.563105</td>\n",
       "      <td>0.218801</td>\n",
       "      <td>0.089737</td>\n",
       "      <td>0.032526</td>\n",
       "    </tr>\n",
       "    <tr>\n",
       "      <th>02_10</th>\n",
       "      <td>0.827880</td>\n",
       "      <td>0.301219</td>\n",
       "      <td>1.804460</td>\n",
       "      <td>0.138948</td>\n",
       "      <td>0.047669</td>\n",
       "      <td>0.057045</td>\n",
       "    </tr>\n",
       "    <tr>\n",
       "      <th>03_01</th>\n",
       "      <td>0.976888</td>\n",
       "      <td>0.012431</td>\n",
       "      <td>7.668900</td>\n",
       "      <td>0.127105</td>\n",
       "      <td>0.259933</td>\n",
       "      <td>0.040993</td>\n",
       "    </tr>\n",
       "    <tr>\n",
       "      <th>03_02</th>\n",
       "      <td>0.978543</td>\n",
       "      <td>0.012388</td>\n",
       "      <td>8.282480</td>\n",
       "      <td>0.208637</td>\n",
       "      <td>0.299565</td>\n",
       "      <td>0.047070</td>\n",
       "    </tr>\n",
       "    <tr>\n",
       "      <th>03_03</th>\n",
       "      <td>0.968625</td>\n",
       "      <td>0.022389</td>\n",
       "      <td>5.885303</td>\n",
       "      <td>0.153486</td>\n",
       "      <td>0.276784</td>\n",
       "      <td>0.045723</td>\n",
       "    </tr>\n",
       "    <tr>\n",
       "      <th>03_04</th>\n",
       "      <td>0.964584</td>\n",
       "      <td>0.022446</td>\n",
       "      <td>5.186691</td>\n",
       "      <td>0.147083</td>\n",
       "      <td>0.271894</td>\n",
       "      <td>0.043031</td>\n",
       "    </tr>\n",
       "  </tbody>\n",
       "</table>\n",
       "</div>"
      ],
      "text/plain": [
       "       Torso Verticality Mean  Torso Verticality Std.  Instability  \\\n",
       "01_01                0.943458                0.083070     2.229913   \n",
       "01_02                0.742631                0.220370     8.050832   \n",
       "01_03                0.796605                0.211797    10.380910   \n",
       "01_04                0.929846                0.073017     4.009411   \n",
       "01_05                0.793071                0.227410     4.248218   \n",
       "01_06                0.901182                0.132773     3.994250   \n",
       "01_07                0.885631                0.153798     6.169081   \n",
       "01_08                0.882973                0.165648     8.407590   \n",
       "01_09                0.864001                0.169901     8.477148   \n",
       "01_10                0.888731                0.107535     5.603204   \n",
       "01_11                0.884853                0.158283     4.299263   \n",
       "01_12                0.942888                0.065095     4.321921   \n",
       "01_13                0.917886                0.102036     3.610051   \n",
       "01_14                0.947504                0.084601     4.082045   \n",
       "02_01                0.999173                0.000856     2.462321   \n",
       "02_02                0.995879                0.003462     2.926030   \n",
       "02_03                0.986765                0.010674     3.537062   \n",
       "02_04                0.892593                0.160667     1.685594   \n",
       "02_05                0.899503                0.117998     1.779973   \n",
       "02_06                0.728428                0.319849     2.222382   \n",
       "02_07                0.894711                0.135005     1.519361   \n",
       "02_08                0.961514                0.075036     2.051152   \n",
       "02_09                0.926224                0.109907     2.563105   \n",
       "02_10                0.827880                0.301219     1.804460   \n",
       "03_01                0.976888                0.012431     7.668900   \n",
       "03_02                0.978543                0.012388     8.282480   \n",
       "03_03                0.968625                0.022389     5.885303   \n",
       "03_04                0.964584                0.022446     5.186691   \n",
       "\n",
       "       Hand Energy  Foot Energy  Head Energy  \n",
       "01_01     0.216813     0.181132     0.052448  \n",
       "01_02     0.182885     0.219635     0.044672  \n",
       "01_03     0.240885     0.220518     0.061694  \n",
       "01_04     0.147043     0.181545     0.033167  \n",
       "01_05     0.213413     0.217981     0.049893  \n",
       "01_06     0.155356     0.211207     0.033975  \n",
       "01_07     0.203210     0.236872     0.048106  \n",
       "01_08     0.233869     0.221303     0.058143  \n",
       "01_09     0.224604     0.251490     0.056686  \n",
       "01_10     0.254969     0.244055     0.060752  \n",
       "01_11     0.194334     0.211778     0.039711  \n",
       "01_12     0.214126     0.250426     0.046889  \n",
       "01_13     0.333240     0.339086     0.069222  \n",
       "01_14     0.295882     0.405528     0.059796  \n",
       "02_01     0.200875     0.391477     0.018117  \n",
       "02_02     0.282777     0.508550     0.026022  \n",
       "02_03     0.365963     0.604131     0.045678  \n",
       "02_04     0.256824     0.147239     0.081071  \n",
       "02_05     0.252152     0.049706     0.073934  \n",
       "02_06     0.177819     0.111633     0.080023  \n",
       "02_07     0.307828     0.048652     0.069386  \n",
       "02_08     0.284829     0.079949     0.031140  \n",
       "02_09     0.218801     0.089737     0.032526  \n",
       "02_10     0.138948     0.047669     0.057045  \n",
       "03_01     0.127105     0.259933     0.040993  \n",
       "03_02     0.208637     0.299565     0.047070  \n",
       "03_03     0.153486     0.276784     0.045723  \n",
       "03_04     0.147083     0.271894     0.043031  "
      ]
     },
     "execution_count": 3,
     "metadata": {},
     "output_type": "execute_result"
    }
   ],
   "source": [
    "feature_df = pd.DataFrame()\n",
    "for pkl in tqdm(pkls):\n",
    "    df = pd.read_pickle(pkl)\n",
    "    features = feature_extraction.extract_features(df)\n",
    "    features.index = [os.path.basename(pkl).replace('.pkl', '')]\n",
    "    feature_df = pd.concat([feature_df, features])\n",
    "\n",
    "feature_df"
   ]
  },
  {
   "cell_type": "code",
   "execution_count": 4,
   "metadata": {},
   "outputs": [
    {
     "data": {
      "image/png": "[encoded data removed]",
      "text/plain": [
       "<Figure size 3000x1000 with 6 Axes>"
      ]
     },
     "metadata": {},
     "output_type": "display_data"
    }
   ],
   "source": [
    "import matplotlib.pyplot as plt\n",
    "\n",
    "fig, ax = plt.subplots(1, len(feature_df.columns), figsize=(30, 10))\n",
    "\n",
    "for i, col in enumerate(feature_df.columns):\n",
    "    feature_df.boxplot(col, ax=ax[i])"
   ]
  },
  {
   "cell_type": "code",
   "execution_count": 5,
   "metadata": {},
   "outputs": [
    {
     "data": {
      "text/html": [
       "<div>\n",
       "<style scoped>\n",
       "    .dataframe tbody tr th:only-of-type {\n",
       "        vertical-align: middle;\n",
       "    }\n",
       "\n",
       "    .dataframe tbody tr th {\n",
       "        vertical-align: top;\n",
       "    }\n",
       "\n",
       "    .dataframe thead th {\n",
       "        text-align: right;\n",
       "    }\n",
       "</style>\n",
       "<table border=\"1\" class=\"dataframe\">\n",
       "  <thead>\n",
       "    <tr style=\"text-align: right;\">\n",
       "      <th></th>\n",
       "      <th>Torso Verticality Mean</th>\n",
       "      <th>Torso Verticality Std.</th>\n",
       "      <th>Instability</th>\n",
       "      <th>Hand Energy</th>\n",
       "      <th>Foot Energy</th>\n",
       "      <th>Head Energy</th>\n",
       "    </tr>\n",
       "  </thead>\n",
       "  <tbody>\n",
       "    <tr>\n",
       "      <th>Torso Verticality Mean</th>\n",
       "      <td>1.000000</td>\n",
       "      <td>-0.939461</td>\n",
       "      <td>-0.179308</td>\n",
       "      <td>0.190789</td>\n",
       "      <td>0.472004</td>\n",
       "      <td>-0.499854</td>\n",
       "    </tr>\n",
       "    <tr>\n",
       "      <th>Torso Verticality Std.</th>\n",
       "      <td>-0.939461</td>\n",
       "      <td>1.000000</td>\n",
       "      <td>0.006942</td>\n",
       "      <td>-0.172404</td>\n",
       "      <td>-0.566613</td>\n",
       "      <td>0.533551</td>\n",
       "    </tr>\n",
       "    <tr>\n",
       "      <th>Instability</th>\n",
       "      <td>-0.179308</td>\n",
       "      <td>0.006942</td>\n",
       "      <td>1.000000</td>\n",
       "      <td>-0.232703</td>\n",
       "      <td>0.219031</td>\n",
       "      <td>-0.048627</td>\n",
       "    </tr>\n",
       "    <tr>\n",
       "      <th>Hand Energy</th>\n",
       "      <td>0.190789</td>\n",
       "      <td>-0.172404</td>\n",
       "      <td>-0.232703</td>\n",
       "      <td>1.000000</td>\n",
       "      <td>0.354200</td>\n",
       "      <td>0.275314</td>\n",
       "    </tr>\n",
       "    <tr>\n",
       "      <th>Foot Energy</th>\n",
       "      <td>0.472004</td>\n",
       "      <td>-0.566613</td>\n",
       "      <td>0.219031</td>\n",
       "      <td>0.354200</td>\n",
       "      <td>1.000000</td>\n",
       "      <td>-0.343434</td>\n",
       "    </tr>\n",
       "    <tr>\n",
       "      <th>Head Energy</th>\n",
       "      <td>-0.499854</td>\n",
       "      <td>0.533551</td>\n",
       "      <td>-0.048627</td>\n",
       "      <td>0.275314</td>\n",
       "      <td>-0.343434</td>\n",
       "      <td>1.000000</td>\n",
       "    </tr>\n",
       "  </tbody>\n",
       "</table>\n",
       "</div>"
      ],
      "text/plain": [
       "                        Torso Verticality Mean  Torso Verticality Std.  \\\n",
       "Torso Verticality Mean                1.000000               -0.939461   \n",
       "Torso Verticality Std.               -0.939461                1.000000   \n",
       "Instability                          -0.179308                0.006942   \n",
       "Hand Energy                           0.190789               -0.172404   \n",
       "Foot Energy                           0.472004               -0.566613   \n",
       "Head Energy                          -0.499854                0.533551   \n",
       "\n",
       "                        Instability  Hand Energy  Foot Energy  Head Energy  \n",
       "Torso Verticality Mean    -0.179308     0.190789     0.472004    -0.499854  \n",
       "Torso Verticality Std.     0.006942    -0.172404    -0.566613     0.533551  \n",
       "Instability                1.000000    -0.232703     0.219031    -0.048627  \n",
       "Hand Energy               -0.232703     1.000000     0.354200     0.275314  \n",
       "Foot Energy                0.219031     0.354200     1.000000    -0.343434  \n",
       "Head Energy               -0.048627     0.275314    -0.343434     1.000000  "
      ]
     },
     "metadata": {},
     "output_type": "display_data"
    },
    {
     "data": {
      "application/vnd.plotly.v1+json": {
       "config": {
        "plotlyServerURL": "https://plot.ly"
       },
       "data": [
        {
         "coloraxis": "coloraxis",
         "hovertemplate": "x: %{x}<br>y: %{y}<br>color: %{z}<extra></extra>",
         "name": "0",
         "type": "heatmap",
         "x": [
          "Torso Verticality Mean",
          "Torso Verticality Std.",
          "Instability",
          "Hand Energy",
          "Foot Energy",
          "Head Energy"
         ],
         "xaxis": "x",
         "y": [
          "Torso Verticality Mean",
          "Torso Verticality Std.",
          "Instability",
          "Hand Energy",
          "Foot Energy",
          "Head Energy"
         ],
         "yaxis": "y",
         "z": [
          [
           1,
           -0.9394611368021658,
           -0.17930787387767555,
           0.19078850747560616,
           0.47200389872155335,
           -0.4998541743393416
          ],
          [
           -0.9394611368021658,
           1,
           0.006941714973432557,
           -0.17240408023125184,
           -0.5666126193401626,
           0.5335514610151592
          ],
          [
           -0.17930787387767555,
           0.006941714973432557,
           1,
           -0.2327027260630813,
           0.21903059671187974,
           -0.048627282411525447
          ],
          [
           0.19078850747560616,
           -0.17240408023125184,
           -0.2327027260630813,
           1,
           0.3541995979151343,
           0.2753136312819463
          ],
          [
           0.47200389872155335,
           -0.5666126193401626,
           0.21903059671187974,
           0.3541995979151343,
           1,
           -0.34343448307210117
          ],
          [
           -0.4998541743393416,
           0.5335514610151592,
           -0.048627282411525447,
           0.2753136312819463,
           -0.34343448307210117,
           1
          ]
         ]
        }
       ],
       "layout": {
        "coloraxis": {
         "colorscale": [
          [
           0,
           "#0d0887"
          ],
          [
           0.1111111111111111,
           "#46039f"
          ],
          [
           0.2222222222222222,
           "#7201a8"
          ],
          [
           0.3333333333333333,
           "#9c179e"
          ],
          [
           0.4444444444444444,
           "#bd3786"
          ],
          [
           0.5555555555555556,
           "#d8576b"
          ],
          [
           0.6666666666666666,
           "#ed7953"
          ],
          [
           0.7777777777777778,
           "#fb9f3a"
          ],
          [
           0.8888888888888888,
           "#fdca26"
          ],
          [
           1,
           "#f0f921"
          ]
         ]
        },
        "margin": {
         "t": 60
        },
        "template": {
         "data": {
          "bar": [
           {
            "error_x": {
             "color": "#2a3f5f"
            },
            "error_y": {
             "color": "#2a3f5f"
            },
            "marker": {
             "line": {
              "color": "#E5ECF6",
              "width": 0.5
             },
             "pattern": {
              "fillmode": "overlay",
              "size": 10,
              "solidity": 0.2
             }
            },
            "type": "bar"
           }
          ],
          "barpolar": [
           {
            "marker": {
             "line": {
              "color": "#E5ECF6",
              "width": 0.5
             },
             "pattern": {
              "fillmode": "overlay",
              "size": 10,
              "solidity": 0.2
             }
            },
            "type": "barpolar"
           }
          ],
          "carpet": [
           {
            "aaxis": {
             "endlinecolor": "#2a3f5f",
             "gridcolor": "white",
             "linecolor": "white",
             "minorgridcolor": "white",
             "startlinecolor": "#2a3f5f"
            },
            "baxis": {
             "endlinecolor": "#2a3f5f",
             "gridcolor": "white",
             "linecolor": "white",
             "minorgridcolor": "white",
             "startlinecolor": "#2a3f5f"
            },
            "type": "carpet"
           }
          ],
          "choropleth": [
           {
            "colorbar": {
             "outlinewidth": 0,
             "ticks": ""
            },
            "type": "choropleth"
           }
          ],
          "contour": [
           {
            "colorbar": {
             "outlinewidth": 0,
             "ticks": ""
            },
            "colorscale": [
             [
              0,
              "#0d0887"
             ],
             [
              0.1111111111111111,
              "#46039f"
             ],
             [
              0.2222222222222222,
              "#7201a8"
             ],
             [
              0.3333333333333333,
              "#9c179e"
             ],
             [
              0.4444444444444444,
              "#bd3786"
             ],
             [
              0.5555555555555556,
              "#d8576b"
             ],
             [
              0.6666666666666666,
              "#ed7953"
             ],
             [
              0.7777777777777778,
              "#fb9f3a"
             ],
             [
              0.8888888888888888,
              "#fdca26"
             ],
             [
              1,
              "#f0f921"
             ]
            ],
            "type": "contour"
           }
          ],
          "contourcarpet": [
           {
            "colorbar": {
             "outlinewidth": 0,
             "ticks": ""
            },
            "type": "contourcarpet"
           }
          ],
          "heatmap": [
           {
            "colorbar": {
             "outlinewidth": 0,
             "ticks": ""
            },
            "colorscale": [
             [
              0,
              "#0d0887"
             ],
             [
              0.1111111111111111,
              "#46039f"
             ],
             [
              0.2222222222222222,
              "#7201a8"
             ],
             [
              0.3333333333333333,
              "#9c179e"
             ],
             [
              0.4444444444444444,
              "#bd3786"
             ],
             [
              0.5555555555555556,
              "#d8576b"
             ],
             [
              0.6666666666666666,
              "#ed7953"
             ],
             [
              0.7777777777777778,
              "#fb9f3a"
             ],
             [
              0.8888888888888888,
              "#fdca26"
             ],
             [
              1,
              "#f0f921"
             ]
            ],
            "type": "heatmap"
           }
          ],
          "heatmapgl": [
           {
            "colorbar": {
             "outlinewidth": 0,
             "ticks": ""
            },
            "colorscale": [
             [
              0,
              "#0d0887"
             ],
             [
              0.1111111111111111,
              "#46039f"
             ],
             [
              0.2222222222222222,
              "#7201a8"
             ],
             [
              0.3333333333333333,
              "#9c179e"
             ],
             [
              0.4444444444444444,
              "#bd3786"
             ],
             [
              0.5555555555555556,
              "#d8576b"
             ],
             [
              0.6666666666666666,
              "#ed7953"
             ],
             [
              0.7777777777777778,
              "#fb9f3a"
             ],
             [
              0.8888888888888888,
              "#fdca26"
             ],
             [
              1,
              "#f0f921"
             ]
            ],
            "type": "heatmapgl"
           }
          ],
          "histogram": [
           {
            "marker": {
             "pattern": {
              "fillmode": "overlay",
              "size": 10,
              "solidity": 0.2
             }
            },
            "type": "histogram"
           }
          ],
          "histogram2d": [
           {
            "colorbar": {
             "outlinewidth": 0,
             "ticks": ""
            },
            "colorscale": [
             [
              0,
              "#0d0887"
             ],
             [
              0.1111111111111111,
              "#46039f"
             ],
             [
              0.2222222222222222,
              "#7201a8"
             ],
             [
              0.3333333333333333,
              "#9c179e"
             ],
             [
              0.4444444444444444,
              "#bd3786"
             ],
             [
              0.5555555555555556,
              "#d8576b"
             ],
             [
              0.6666666666666666,
              "#ed7953"
             ],
             [
              0.7777777777777778,
              "#fb9f3a"
             ],
             [
              0.8888888888888888,
              "#fdca26"
             ],
             [
              1,
              "#f0f921"
             ]
            ],
            "type": "histogram2d"
           }
          ],
          "histogram2dcontour": [
           {
            "colorbar": {
             "outlinewidth": 0,
             "ticks": ""
            },
            "colorscale": [
             [
              0,
              "#0d0887"
             ],
             [
              0.1111111111111111,
              "#46039f"
             ],
             [
              0.2222222222222222,
              "#7201a8"
             ],
             [
              0.3333333333333333,
              "#9c179e"
             ],
             [
              0.4444444444444444,
              "#bd3786"
             ],
             [
              0.5555555555555556,
              "#d8576b"
             ],
             [
              0.6666666666666666,
              "#ed7953"
             ],
             [
              0.7777777777777778,
              "#fb9f3a"
             ],
             [
              0.8888888888888888,
              "#fdca26"
             ],
             [
              1,
              "#f0f921"
             ]
            ],
            "type": "histogram2dcontour"
           }
          ],
          "mesh3d": [
           {
            "colorbar": {
             "outlinewidth": 0,
             "ticks": ""
            },
            "type": "mesh3d"
           }
          ],
          "parcoords": [
           {
            "line": {
             "colorbar": {
              "outlinewidth": 0,
              "ticks": ""
             }
            },
            "type": "parcoords"
           }
          ],
          "pie": [
           {
            "automargin": true,
            "type": "pie"
           }
          ],
          "scatter": [
           {
            "fillpattern": {
             "fillmode": "overlay",
             "size": 10,
             "solidity": 0.2
            },
            "type": "scatter"
           }
          ],
          "scatter3d": [
           {
            "line": {
             "colorbar": {
              "outlinewidth": 0,
              "ticks": ""
             }
            },
            "marker": {
             "colorbar": {
              "outlinewidth": 0,
              "ticks": ""
             }
            },
            "type": "scatter3d"
           }
          ],
          "scattercarpet": [
           {
            "marker": {
             "colorbar": {
              "outlinewidth": 0,
              "ticks": ""
             }
            },
            "type": "scattercarpet"
           }
          ],
          "scattergeo": [
           {
            "marker": {
             "colorbar": {
              "outlinewidth": 0,
              "ticks": ""
             }
            },
            "type": "scattergeo"
           }
          ],
          "scattergl": [
           {
            "marker": {
             "colorbar": {
              "outlinewidth": 0,
              "ticks": ""
             }
            },
            "type": "scattergl"
           }
          ],
          "scattermapbox": [
           {
            "marker": {
             "colorbar": {
              "outlinewidth": 0,
              "ticks": ""
             }
            },
            "type": "scattermapbox"
           }
          ],
          "scatterpolar": [
           {
            "marker": {
             "colorbar": {
              "outlinewidth": 0,
              "ticks": ""
             }
            },
            "type": "scatterpolar"
           }
          ],
          "scatterpolargl": [
           {
            "marker": {
             "colorbar": {
              "outlinewidth": 0,
              "ticks": ""
             }
            },
            "type": "scatterpolargl"
           }
          ],
          "scatterternary": [
           {
            "marker": {
             "colorbar": {
              "outlinewidth": 0,
              "ticks": ""
             }
            },
            "type": "scatterternary"
           }
          ],
          "surface": [
           {
            "colorbar": {
             "outlinewidth": 0,
             "ticks": ""
            },
            "colorscale": [
             [
              0,
              "#0d0887"
             ],
             [
              0.1111111111111111,
              "#46039f"
             ],
             [
              0.2222222222222222,
              "#7201a8"
             ],
             [
              0.3333333333333333,
              "#9c179e"
             ],
             [
              0.4444444444444444,
              "#bd3786"
             ],
             [
              0.5555555555555556,
              "#d8576b"
             ],
             [
              0.6666666666666666,
              "#ed7953"
             ],
             [
              0.7777777777777778,
              "#fb9f3a"
             ],
             [
              0.8888888888888888,
              "#fdca26"
             ],
             [
              1,
              "#f0f921"
             ]
            ],
            "type": "surface"
           }
          ],
          "table": [
           {
            "cells": {
             "fill": {
              "color": "#EBF0F8"
             },
             "line": {
              "color": "white"
             }
            },
            "header": {
             "fill": {
              "color": "#C8D4E3"
             },
             "line": {
              "color": "white"
             }
            },
            "type": "table"
           }
          ]
         },
         "layout": {
          "annotationdefaults": {
           "arrowcolor": "#2a3f5f",
           "arrowhead": 0,
           "arrowwidth": 1
          },
          "autotypenumbers": "strict",
          "coloraxis": {
           "colorbar": {
            "outlinewidth": 0,
            "ticks": ""
           }
          },
          "colorscale": {
           "diverging": [
            [
             0,
             "#8e0152"
            ],
            [
             0.1,
             "#c51b7d"
            ],
            [
             0.2,
             "#de77ae"
            ],
            [
             0.3,
             "#f1b6da"
            ],
            [
             0.4,
             "#fde0ef"
            ],
            [
             0.5,
             "#f7f7f7"
            ],
            [
             0.6,
             "#e6f5d0"
            ],
            [
             0.7,
             "#b8e186"
            ],
            [
             0.8,
             "#7fbc41"
            ],
            [
             0.9,
             "#4d9221"
            ],
            [
             1,
             "#276419"
            ]
           ],
           "sequential": [
            [
             0,
             "#0d0887"
            ],
            [
             0.1111111111111111,
             "#46039f"
            ],
            [
             0.2222222222222222,
             "#7201a8"
            ],
            [
             0.3333333333333333,
             "#9c179e"
            ],
            [
             0.4444444444444444,
             "#bd3786"
            ],
            [
             0.5555555555555556,
             "#d8576b"
            ],
            [
             0.6666666666666666,
             "#ed7953"
            ],
            [
             0.7777777777777778,
             "#fb9f3a"
            ],
            [
             0.8888888888888888,
             "#fdca26"
            ],
            [
             1,
             "#f0f921"
            ]
           ],
           "sequentialminus": [
            [
             0,
             "#0d0887"
            ],
            [
             0.1111111111111111,
             "#46039f"
            ],
            [
             0.2222222222222222,
             "#7201a8"
            ],
            [
             0.3333333333333333,
             "#9c179e"
            ],
            [
             0.4444444444444444,
             "#bd3786"
            ],
            [
             0.5555555555555556,
             "#d8576b"
            ],
            [
             0.6666666666666666,
             "#ed7953"
            ],
            [
             0.7777777777777778,
             "#fb9f3a"
            ],
            [
             0.8888888888888888,
             "#fdca26"
            ],
            [
             1,
             "#f0f921"
            ]
           ]
          },
          "colorway": [
           "#636efa",
           "#EF553B",
           "#00cc96",
           "#ab63fa",
           "#FFA15A",
           "#19d3f3",
           "#FF6692",
           "#B6E880",
           "#FF97FF",
           "#FECB52"
          ],
          "font": {
           "color": "#2a3f5f"
          },
          "geo": {
           "bgcolor": "white",
           "lakecolor": "white",
           "landcolor": "#E5ECF6",
           "showlakes": true,
           "showland": true,
           "subunitcolor": "white"
          },
          "hoverlabel": {
           "align": "left"
          },
          "hovermode": "closest",
          "mapbox": {
           "style": "light"
          },
          "paper_bgcolor": "white",
          "plot_bgcolor": "#E5ECF6",
          "polar": {
           "angularaxis": {
            "gridcolor": "white",
            "linecolor": "white",
            "ticks": ""
           },
           "bgcolor": "#E5ECF6",
           "radialaxis": {
            "gridcolor": "white",
            "linecolor": "white",
            "ticks": ""
           }
          },
          "scene": {
           "xaxis": {
            "backgroundcolor": "#E5ECF6",
            "gridcolor": "white",
            "gridwidth": 2,
            "linecolor": "white",
            "showbackground": true,
            "ticks": "",
            "zerolinecolor": "white"
           },
           "yaxis": {
            "backgroundcolor": "#E5ECF6",
            "gridcolor": "white",
            "gridwidth": 2,
            "linecolor": "white",
            "showbackground": true,
            "ticks": "",
            "zerolinecolor": "white"
           },
           "zaxis": {
            "backgroundcolor": "#E5ECF6",
            "gridcolor": "white",
            "gridwidth": 2,
            "linecolor": "white",
            "showbackground": true,
            "ticks": "",
            "zerolinecolor": "white"
           }
          },
          "shapedefaults": {
           "line": {
            "color": "#2a3f5f"
           }
          },
          "ternary": {
           "aaxis": {
            "gridcolor": "white",
            "linecolor": "white",
            "ticks": ""
           },
           "baxis": {
            "gridcolor": "white",
            "linecolor": "white",
            "ticks": ""
           },
           "bgcolor": "#E5ECF6",
           "caxis": {
            "gridcolor": "white",
            "linecolor": "white",
            "ticks": ""
           }
          },
          "title": {
           "x": 0.05
          },
          "xaxis": {
           "automargin": true,
           "gridcolor": "white",
           "linecolor": "white",
           "ticks": "",
           "title": {
            "standoff": 15
           },
           "zerolinecolor": "white",
           "zerolinewidth": 2
          },
          "yaxis": {
           "automargin": true,
           "gridcolor": "white",
           "linecolor": "white",
           "ticks": "",
           "title": {
            "standoff": 15
           },
           "zerolinecolor": "white",
           "zerolinewidth": 2
          }
         }
        },
        "xaxis": {
         "anchor": "y",
         "constrain": "domain",
         "domain": [
          0,
          1
         ],
         "scaleanchor": "y"
        },
        "yaxis": {
         "anchor": "x",
         "autorange": "reversed",
         "constrain": "domain",
         "domain": [
          0,
          1
         ]
        }
       }
      }
     },
     "metadata": {},
     "output_type": "display_data"
    }
   ],
   "source": [
    "display(feature_df.corr())\n",
    "px.imshow(feature_df.corr())"
   ]
  },
  {
   "cell_type": "code",
   "execution_count": 6,
   "metadata": {},
   "outputs": [
    {
     "name": "stdout",
     "output_type": "stream",
     "text": [
      "|                        |   Torso Verticality Mean |   Torso Verticality Std. |   Instability |   Hand Energy |   Foot Energy |   Head Energy |\n",
      "|:-----------------------|-------------------------:|-------------------------:|--------------:|--------------:|--------------:|--------------:|\n",
      "| Torso Verticality Mean |                 1        |              -0.939461   |   -0.179308   |      0.190789 |      0.472004 |    -0.499854  |\n",
      "| Torso Verticality Std. |                -0.939461 |               1          |    0.00694171 |     -0.172404 |     -0.566613 |     0.533551  |\n",
      "| Instability            |                -0.179308 |               0.00694171 |    1          |     -0.232703 |      0.219031 |    -0.0486273 |\n",
      "| Hand Energy            |                 0.190789 |              -0.172404   |   -0.232703   |      1        |      0.3542   |     0.275314  |\n",
      "| Foot Energy            |                 0.472004 |              -0.566613   |    0.219031   |      0.3542   |      1        |    -0.343434  |\n",
      "| Head Energy            |                -0.499854 |               0.533551   |   -0.0486273  |      0.275314 |     -0.343434 |     1         |\n"
     ]
    }
   ],
   "source": [
    "print(feature_df.corr().to_markdown())"
   ]
  },
  {
   "cell_type": "markdown",
   "metadata": {},
   "source": [
    "## Feature Selection"
   ]
  },
  {
   "cell_type": "code",
   "execution_count": 7,
   "metadata": {},
   "outputs": [
    {
     "name": "stdout",
     "output_type": "stream",
     "text": [
      "['Torso Verticality Std. Cut', 'Instability Cut']\n"
     ]
    },
    {
     "data": {
      "text/plain": [
       "bin\n",
       "(Hi Torso Verticality Std., Hi Instability)    7\n",
       "(Hi Torso Verticality Std., Lo Instability)    7\n",
       "(Lo Torso Verticality Std., Hi Instability)    7\n",
       "(Lo Torso Verticality Std., Lo Instability)    7\n",
       "Name: count, dtype: int64"
      ]
     },
     "execution_count": 7,
     "metadata": {},
     "output_type": "execute_result"
    }
   ],
   "source": [
    "feature_df1 = feature_df[['Torso Verticality Std.', 'Instability']]\n",
    "\n",
    "cuts = {\n",
    "    col + ' Cut': pd.qcut(feature_df1[col], 2, labels=['Lo ' + col, 'Hi ' + col])\n",
    "    for col in feature_df1.columns\n",
    "}\n",
    "\n",
    "d1 = feature_df.assign(**cuts)\n",
    "d1['bin'] = pd.Categorical(d1.filter(regex='Cut').apply(tuple, 1))\n",
    "\n",
    "print(list(d1.filter(regex='Cut').columns))\n",
    "d1['bin'].value_counts()"
   ]
  }
 ],
 "metadata": {
  "kernelspec": {
   "display_name": "venv",
   "language": "python",
   "name": "python3"
  },
  "language_info": {
   "codemirror_mode": {
    "name": "ipython",
    "version": 3
   },
   "file_extension": ".py",
   "mimetype": "text/x-python",
   "name": "python",
   "nbconvert_exporter": "python",
   "pygments_lexer": "ipython3",
   "version": "3.10.6"
  },
  "orig_nbformat": 4
 },
 "nbformat": 4,
 "nbformat_minor": 2
}
